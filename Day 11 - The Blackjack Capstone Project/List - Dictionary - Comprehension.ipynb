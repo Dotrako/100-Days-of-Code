{
 "cells": [
  {
   "cell_type": "code",
   "execution_count": 2,
   "metadata": {},
   "outputs": [],
   "source": [
    "# Original data\n",
    "names = ['Jenny', 'Alexus', 'Sam', 'Grace']\n",
    "heights = [161, 180, 178, 164]"
   ]
  },
  {
   "cell_type": "code",
   "execution_count": 3,
   "metadata": {},
   "outputs": [
    {
     "name": "stdout",
     "output_type": "stream",
     "text": [
      "Zipped list of students and heights: [('Jenny', 161), ('Alexus', 180), ('Sam', 178), ('Grace', 164)]\n"
     ]
    }
   ],
   "source": [
    "# Zipping lists using list comprehension\n",
    "students_list = [(name, height) for name, height in zip(names, heights)]\n",
    "print(\"Zipped list of students and heights:\", students_list)"
   ]
  },
  {
   "cell_type": "code",
   "execution_count": 4,
   "metadata": {},
   "outputs": [
    {
     "name": "stdout",
     "output_type": "stream",
     "text": [
      "Zipped dictionary of students and heights: {'Jenny': 161, 'Alexus': 180, 'Sam': 178, 'Grace': 164}\n"
     ]
    }
   ],
   "source": [
    "# Zipping lists using dictionary comprehension\n",
    "student_info = {name: height for name, height in zip(names, heights)}\n",
    "print(\"Zipped dictionary of students and heights:\", student_info)"
   ]
  }
 ],
 "metadata": {
  "kernelspec": {
   "display_name": "Python 3",
   "language": "python",
   "name": "python3"
  },
  "language_info": {
   "codemirror_mode": {
    "name": "ipython",
    "version": 3
   },
   "file_extension": ".py",
   "mimetype": "text/x-python",
   "name": "python",
   "nbconvert_exporter": "python",
   "pygments_lexer": "ipython3",
   "version": "3.12.0"
  }
 },
 "nbformat": 4,
 "nbformat_minor": 2
}
