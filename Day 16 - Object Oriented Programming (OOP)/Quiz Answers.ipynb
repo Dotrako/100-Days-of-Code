{
 "cells": [
  {
   "cell_type": "code",
   "execution_count": null,
   "metadata": {},
   "outputs": [],
   "source": [
    "# In OOP what is the name of the blueprint for creating objects? (Class)"
   ]
  },
  {
   "cell_type": "code",
   "execution_count": null,
   "metadata": {},
   "outputs": [],
   "source": [
    "\"\"\"Given a Class blueprint for a Car has the following attributes and methods, which line of code in the answers will produce an error?\n",
    "\n",
    "Attributes:\n",
    "\n",
    "num_of_seats\n",
    "\n",
    "speed\n",
    "\n",
    "Methods:\n",
    "\n",
    "drive()\n",
    "\n",
    "brake()\n",
    "\"\"\"\n",
    "\n",
    "# car.brake() = 20"
   ]
  },
  {
   "cell_type": "code",
   "execution_count": null,
   "metadata": {},
   "outputs": [],
   "source": [
    "\"\"\"\n",
    "my_toyota = Car()\n",
    "my_fiat = Car()\n",
    "What word would you use to describe what's inside my_toyota and my_fiat?\n",
    "\"\"\"\n",
    "\n",
    "# object"
   ]
  }
 ],
 "metadata": {
  "language_info": {
   "name": "python"
  }
 },
 "nbformat": 4,
 "nbformat_minor": 2
}
