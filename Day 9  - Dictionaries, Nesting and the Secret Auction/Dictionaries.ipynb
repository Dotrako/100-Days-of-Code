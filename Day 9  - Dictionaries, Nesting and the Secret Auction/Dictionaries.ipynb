{
 "cells": [
  {
   "cell_type": "markdown",
   "metadata": {},
   "source": [
    "### Dictionaries "
   ]
  },
  {
   "cell_type": "code",
   "execution_count": 1,
   "metadata": {},
   "outputs": [
    {
     "name": "stdout",
     "output_type": "stream",
     "text": [
      "20\n"
     ]
    }
   ],
   "source": [
    "my_dict = {'a': 10, 'b': 20, 'c': 30}\n",
    "\n",
    "# Accessing value using key\n",
    "value_of_b = my_dict['b']\n",
    "print(value_of_b)  # Output: 20"
   ]
  },
  {
   "cell_type": "code",
   "execution_count": 3,
   "metadata": {},
   "outputs": [
    {
     "name": "stdout",
     "output_type": "stream",
     "text": [
      "[('a', 10), ('b', 20), ('c', 30)]\n",
      "Key at index 1: b\n",
      "Value at index 1: 20\n"
     ]
    }
   ],
   "source": [
    "my_dict = {'a': 10, 'b': 20, 'c': 30}\n",
    "\n",
    "# Convert dictionary items to a list of tuples\n",
    "items_list = list(my_dict.items())\n",
    "print(items_list)\n",
    "# Accessing key and value using index\n",
    "index = 1\n",
    "key_at_index = items_list[index][0]\n",
    "value_at_index = items_list[index][1]\n",
    "\n",
    "print(f\"Key at index {index}: {key_at_index}\")\n",
    "print(f\"Value at index {index}: {value_at_index}\")"
   ]
  },
  {
   "cell_type": "code",
   "execution_count": 10,
   "metadata": {},
   "outputs": [
    {
     "name": "stdout",
     "output_type": "stream",
     "text": [
      "dict_items([('Bug', 'An error in a program that prevents the program from running as expected.'), ('Function', 'A piece of code that you can easily call over and over again.'), ('Loop', 'The action of doing something again and again (for a known number of time)')])\n",
      "dict_keys(['Bug', 'Function', 'Loop'])\n",
      "dict_values(['An error in a program that prevents the program from running as expected.', 'A piece of code that you can easily call over and over again.', 'The action of doing something again and again (for a known number of time)'])\n"
     ]
    }
   ],
   "source": [
    "programming_dictionary = {\n",
    "    \"Bug\": \"An error in a program that prevents the program from running as expected.\", \n",
    "    \"Function\": \"A piece of code that you can easily call over and over again.\",\n",
    "    \"Loop\": \"The action of doing something again and again (for a known number of time)\",\n",
    "}\n",
    "# Using built in function to get a look into our dictionary\n",
    "print(programming_dictionary.items())\n",
    "# .Keys display all the keys of a dictionary\n",
    "print(programming_dictionary.keys())\n",
    "# .values method shows all the values in our dictionary\n",
    "print(programming_dictionary.values())"
   ]
  },
  {
   "cell_type": "code",
   "execution_count": null,
   "metadata": {},
   "outputs": [],
   "source": []
  }
 ],
 "metadata": {
  "kernelspec": {
   "display_name": "Python 3",
   "language": "python",
   "name": "python3"
  },
  "language_info": {
   "codemirror_mode": {
    "name": "ipython",
    "version": 3
   },
   "file_extension": ".py",
   "mimetype": "text/x-python",
   "name": "python",
   "nbconvert_exporter": "python",
   "pygments_lexer": "ipython3",
   "version": "3.12.0"
  }
 },
 "nbformat": 4,
 "nbformat_minor": 2
}
