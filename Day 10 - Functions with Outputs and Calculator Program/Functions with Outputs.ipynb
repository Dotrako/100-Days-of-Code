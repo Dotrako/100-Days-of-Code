{
 "cells": [
  {
   "cell_type": "code",
   "execution_count": 3,
   "metadata": {},
   "outputs": [],
   "source": [
    "var = 123\n",
    "def my_function(parameter):\n",
    "    # Do this with parameter\n",
    "    # Then do this\n",
    "    # finally do this\n",
    "    my_function(argument = var)"
   ]
  },
  {
   "cell_type": "code",
   "execution_count": 6,
   "metadata": {},
   "outputs": [
    {
     "name": "stdout",
     "output_type": "stream",
     "text": [
      "Your full name is Aminedotrako\n"
     ]
    }
   ],
   "source": [
    "def format_name(first_name, last_name):\n",
    "\n",
    "    full_name = first_name + \" \" + last_name\n",
    "    print(f\"Your full name is {full_name.title()}\")\n",
    "\n",
    "f_name = input(\"what is your first name\")\n",
    "l_name = input(\"what is your last name\")\n",
    "\n",
    "format_name(first_name= f_name, last_name= l_name )\n",
    "    "
   ]
  },
  {
   "cell_type": "code",
   "execution_count": 8,
   "metadata": {},
   "outputs": [
    {
     "name": "stdout",
     "output_type": "stream",
     "text": [
      "Your full name is Johnsnow\n"
     ]
    }
   ],
   "source": [
    "new_name = format_name(\"john\", \"snow\")"
   ]
  },
  {
   "cell_type": "code",
   "execution_count": 9,
   "metadata": {},
   "outputs": [],
   "source": [
    "def add(a, b):\n",
    "    \"\"\"\n",
    "    Add two numbers and return the result.\n",
    "    \n",
    "    Parameters:\n",
    "    a (int): First number\n",
    "    b (int): Second number\n",
    "    \n",
    "    Returns:\n",
    "    int: Sum of a and b\n",
    "    \"\"\"\n",
    "    return a + b"
   ]
  }
 ],
 "metadata": {
  "kernelspec": {
   "display_name": "Python 3",
   "language": "python",
   "name": "python3"
  },
  "language_info": {
   "codemirror_mode": {
    "name": "ipython",
    "version": 3
   },
   "file_extension": ".py",
   "mimetype": "text/x-python",
   "name": "python",
   "nbconvert_exporter": "python",
   "pygments_lexer": "ipython3",
   "version": "3.12.0"
  }
 },
 "nbformat": 4,
 "nbformat_minor": 2
}
