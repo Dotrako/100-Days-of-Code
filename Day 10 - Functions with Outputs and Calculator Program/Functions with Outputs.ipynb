{
 "cells": [
  {
   "cell_type": "code",
   "execution_count": 3,
   "metadata": {},
   "outputs": [],
   "source": [
    "var = 123\n",
    "def my_function(parameter):\n",
    "    # Do this with parameter\n",
    "    # Then do this\n",
    "    # finally do this\n",
    "    my_function(argument = var)"
   ]
  },
  {
   "cell_type": "code",
   "execution_count": 6,
   "metadata": {},
   "outputs": [
    {
     "name": "stdout",
     "output_type": "stream",
     "text": [
      "Your full name is Aminedotrako\n"
     ]
    }
   ],
   "source": [
    "def format_name(first_name, last_name):\n",
    "\n",
    "    full_name = first_name + \" \" + last_name\n",
    "    print(f\"Your full name is {full_name.title()}\")\n",
    "\n",
    "f_name = input(\"what is your first name\")\n",
    "l_name = input(\"what is your last name\")\n",
    "\n",
    "format_name(first_name= f_name, last_name= l_name )\n",
    "    "
   ]
  },
  {
   "cell_type": "code",
   "execution_count": 8,
   "metadata": {},
   "outputs": [
    {
     "name": "stdout",
     "output_type": "stream",
     "text": [
      "Your full name is Johnsnow\n"
     ]
    }
   ],
   "source": [
    "new_name = format_name(\"john\", \"snow\")"
   ]
  },
  {
   "cell_type": "code",
   "execution_count": 9,
   "metadata": {},
   "outputs": [],
   "source": [
    "def add(a, b):\n",
    "    \"\"\"\n",
    "    Add two numbers and return the result.\n",
    "    \n",
    "    Parameters:\n",
    "    a (int): First number\n",
    "    b (int): Second number\n",
    "    \n",
    "    Returns:\n",
    "    int: Sum of a and b\n",
    "    \"\"\"\n",
    "    return a + b"
   ]
  },
  {
   "cell_type": "code",
   "execution_count": null,
   "metadata": {},
   "outputs": [],
   "source": [
    "\"\"\"A Python docstring is a string used to document a Python module, class, function or method,\n",
    " so programmers can understand what it does without having to read the details of the implementation.\"\"\""
   ]
  },
  {
   "cell_type": "markdown",
   "metadata": {},
   "source": [
    "### Quiz Solution"
   ]
  },
  {
   "cell_type": "code",
   "execution_count": 1,
   "metadata": {},
   "outputs": [
    {
     "name": "stdout",
     "output_type": "stream",
     "text": [
      "12.0\n"
     ]
    }
   ],
   "source": [
    "def add(n1, n2):\n",
    "  return n1 + n2\n",
    " \n",
    "def subtract(n1, n2):\n",
    "  return n1 - n2\n",
    " \n",
    "def multiply(n1, n2):\n",
    "  return n1 * n2\n",
    " \n",
    "def divide(n1, n2):\n",
    "  return n1 / n2\n",
    " \n",
    "print(add(2, multiply(5, divide(8, 4))))"
   ]
  },
  {
   "cell_type": "code",
   "execution_count": 2,
   "metadata": {},
   "outputs": [
    {
     "name": "stdout",
     "output_type": "stream",
     "text": [
      "15\n"
     ]
    }
   ],
   "source": [
    "def outer_function(a, b):\n",
    "    def inner_function(c, d):\n",
    "        return c + d\n",
    "    return inner_function(a, b)\n",
    " \n",
    "result = outer_function(5, 10)\n",
    "print(result)"
   ]
  },
  {
   "cell_type": "code",
   "execution_count": 4,
   "metadata": {},
   "outputs": [
    {
     "name": "stdout",
     "output_type": "stream",
     "text": [
      "None\n"
     ]
    }
   ],
   "source": [
    "def my_function(a):\n",
    "    if a < 40:\n",
    "        return\n",
    "        print(\"Terrible\")\n",
    "    if a < 80:\n",
    "        return \"Pass\"\n",
    "    else:\n",
    "        return \"Great\"\n",
    "print(my_function(25))"
   ]
  }
 ],
 "metadata": {
  "kernelspec": {
   "display_name": "Python 3",
   "language": "python",
   "name": "python3"
  },
  "language_info": {
   "codemirror_mode": {
    "name": "ipython",
    "version": 3
   },
   "file_extension": ".py",
   "mimetype": "text/x-python",
   "name": "python",
   "nbconvert_exporter": "python",
   "pygments_lexer": "ipython3",
   "version": "3.12.0"
  }
 },
 "nbformat": 4,
 "nbformat_minor": 2
}
