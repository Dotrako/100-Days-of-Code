{
 "cells": [
  {
   "cell_type": "code",
   "execution_count": 45,
   "metadata": {},
   "outputs": [
    {
     "name": "stdout",
     "output_type": "stream",
     "text": [
      "0\n",
      "12\n",
      "8\n",
      "13\n",
      "4\n",
      "bnjof\n"
     ]
    }
   ],
   "source": [
    "# creating a password crypter \n",
    "import string\n",
    "\n",
    "alphabet = list(string.ascii_lowercase)\n",
    "\n",
    "message = \"amine\"\n",
    "flare = 1\n",
    "crypted_message = \"\"\n",
    "for char in message:\n",
    "    position = alphabet.index(char)\n",
    "    crypted_message += alphabet[(position+flare) % 26]\n",
    "    print(position)\n",
    "print(crypted_message)"
   ]
  },
  {
   "cell_type": "code",
   "execution_count": 46,
   "metadata": {},
   "outputs": [
    {
     "name": "stdout",
     "output_type": "stream",
     "text": [
      "7 is prime number\n"
     ]
    }
   ],
   "source": [
    "# program  to know if a number is  a prime or not \n",
    "\n",
    "def prime(number):\n",
    "    is_prime = True\n",
    "    for i in range (2,number):\n",
    "        if number % i == 0:\n",
    "            is_prime = False\n",
    "    if is_prime:\n",
    "        print(f\"{number} is prime number\")\n",
    "    else:\n",
    "        print(f\"{number} is not a prime number\")\n",
    "number = int(input(\"Please enter your number:\"))\n",
    "prime(number)\n"
   ]
  },
  {
   "cell_type": "code",
   "execution_count": null,
   "metadata": {},
   "outputs": [],
   "source": [
    "import string\n",
    "message = list(input(\"please put the message you wanne encrypt\"))\n",
    "cypher = 1\n",
    "\n",
    "\n",
    "alphabet = list(string.ascii_lowercase)\n",
    "print(alphabet)\n",
    "\n",
    "crypted = []\n",
    "for index in range(len(message)):\n",
    "    message[index] = alphabet[index + 1]\n",
    "    crypted = message\n",
    "print(crypted)\n",
    "    \n",
    "def greet_with(name, location):\n",
    "    print(f\"Hello {name}:\\n what is it like in {location}\")\n",
    "greet_with(\"Amine\", \"Beni Mellal\")\n",
    "# painting can function calculator \n",
    "import math\n",
    "def painting_can_calculator(height, width, coverage):\n",
    "    number_of_cans = (height * width) / coverage\n",
    "    cans = math.ceil(number_of_cans)\n",
    "    print(f\"The number of cans needed for  wall with a height of {height}m, width {width}m and a coverage of {coverage} is {cans}\")\n",
    "painting_can_calculator(3, 9, 5)"
   ]
  }
 ],
 "metadata": {
  "kernelspec": {
   "display_name": "Python 3",
   "language": "python",
   "name": "python3"
  },
  "language_info": {
   "codemirror_mode": {
    "name": "ipython",
    "version": 3
   },
   "file_extension": ".py",
   "mimetype": "text/x-python",
   "name": "python",
   "nbconvert_exporter": "python",
   "pygments_lexer": "ipython3",
   "version": "3.12.0"
  }
 },
 "nbformat": 4,
 "nbformat_minor": 2
}
