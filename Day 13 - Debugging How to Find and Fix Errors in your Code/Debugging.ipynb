{
 "cells": [
  {
   "cell_type": "code",
   "execution_count": null,
   "metadata": {},
   "outputs": [],
   "source": [
    "############DEBUGGING#####################\n",
    "\n",
    "# # Describe Problem\n",
    "# def my_function():\n",
    "#   for i in range(1, 20):\n",
    "#     if i == 20:\n",
    "#       print(\"You got it\")\n",
    "# my_function()\n",
    "\n",
    "# # Reproduce the Bug\n",
    "# from random import randint\n",
    "# dice_imgs = [\"❶\", \"❷\", \"❸\", \"❹\", \"❺\", \"❻\"]\n",
    "# dice_num = randint(1, 6)\n",
    "# print(dice_imgs[dice_num])\n",
    "\n",
    "# # Play Computer\n",
    "# year = int(input(\"What's your year of birth?\"))\n",
    "# if year > 1980 and year < 1994:\n",
    "#   print(\"You are a millenial.\")\n",
    "# elif year > 1994:\n",
    "#   print(\"You are a Gen Z.\")\n",
    "\n",
    "# # Fix the Errors\n",
    "# age = input(\"How old are you?\")\n",
    "# if age > 18:\n",
    "# print(\"You can drive at age {age}.\")\n",
    "\n",
    "# #Print is Your Friend\n",
    "# pages = 0\n",
    "# word_per_page = 0\n",
    "# pages = int(input(\"Number of pages: \"))\n",
    "# word_per_page == int(input(\"Number of words per page: \"))\n",
    "# total_words = pages * word_per_page\n",
    "# print(total_words)\n",
    "\n",
    "# #Use a Debugger\n",
    "# def mutate(a_list):\n",
    "#   b_list = []\n",
    "#   for item in a_list:\n",
    "#     new_item = item * 2\n",
    "#   b_list.append(new_item)\n",
    "#   print(b_list)\n",
    "\n",
    "# mutate([1,2,3,5,8,13])"
   ]
  }
 ],
 "metadata": {
  "language_info": {
   "name": "python"
  }
 },
 "nbformat": 4,
 "nbformat_minor": 2
}
