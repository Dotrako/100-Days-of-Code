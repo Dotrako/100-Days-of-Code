{
 "cells": [
  {
   "cell_type": "markdown",
   "metadata": {},
   "source": [
    "### Dictionaries "
   ]
  },
  {
   "cell_type": "code",
   "execution_count": 21,
   "metadata": {},
   "outputs": [
    {
     "name": "stdout",
     "output_type": "stream",
     "text": [
      "20\n"
     ]
    }
   ],
   "source": [
    "my_dict = {'a': 10, 'b': 20, 'c': 30}\n",
    "\n",
    "# Accessing value using key\n",
    "value_of_b = my_dict['b']\n",
    "print(value_of_b)  # Output: 20"
   ]
  },
  {
   "cell_type": "code",
   "execution_count": 22,
   "metadata": {},
   "outputs": [
    {
     "name": "stdout",
     "output_type": "stream",
     "text": [
      "[('a', 10), ('b', 20), ('c', 30)]\n",
      "Key at index 1: b\n",
      "Value at index 1: 20\n"
     ]
    }
   ],
   "source": [
    "my_dict = {'a': 10, 'b': 20, 'c': 30}\n",
    "\n",
    "# Convert dictionary items to a list of tuples\n",
    "items_list = list(my_dict.items())\n",
    "print(items_list)\n",
    "# Accessing key and value using index\n",
    "index = 1\n",
    "key_at_index = items_list[index][0]\n",
    "value_at_index = items_list[index][1]\n",
    "\n",
    "print(f\"Key at index {index}: {key_at_index}\")\n",
    "print(f\"Value at index {index}: {value_at_index}\")"
   ]
  },
  {
   "cell_type": "code",
   "execution_count": 23,
   "metadata": {},
   "outputs": [
    {
     "name": "stdout",
     "output_type": "stream",
     "text": [
      "dict_items([('Bug', 'An error in a program that prevents the program from running as expected.'), ('Function', 'A piece of code that you can easily call over and over again.')])\n",
      "dict_keys(['Bug', 'Function'])\n",
      "dict_values(['An error in a program that prevents the program from running as expected.', 'A piece of code that you can easily call over and over again.'])\n"
     ]
    }
   ],
   "source": [
    "programming_dictionary = {\n",
    "    \"Bug\": \"An error in a program that prevents the program from running as expected.\", \n",
    "    \"Function\": \"A piece of code that you can easily call over and over again.\",\n",
    "}\n",
    "# Using built in function to get a look into our dictionary\n",
    "print(programming_dictionary.items())\n",
    "# .Keys display all the keys of a dictionary\n",
    "print(programming_dictionary.keys())\n",
    "# .values method shows all the values in our dictionary\n",
    "print(programming_dictionary.values())"
   ]
  },
  {
   "cell_type": "code",
   "execution_count": 24,
   "metadata": {},
   "outputs": [
    {
     "name": "stdout",
     "output_type": "stream",
     "text": [
      "{'Bug': 'An error in a program that prevents the program from running as expected.', 'Function': 'A piece of code that you can easily call over and over again.', 'Loop': 'The action of doing something again and again (for a known number of time)'}\n",
      "3\n",
      "{'Bug': 'An error in a program that prevents the program from running as expected.', 'Function': 'A piece of code that you can easily call over and over again.', 'Loop': 'The action of doing something again and again (for a known number of time)', 'Test': 'Value'}\n",
      "4\n"
     ]
    }
   ],
   "source": [
    "# adding data to an exesting dictionary \n",
    "programming_dictionary[\"Loop\"] = \"The action of doing something again and again (for a known number of time)\"\n",
    "print(programming_dictionary)\n",
    "print(len(programming_dictionary))\n",
    "\n",
    "# Using update methode\n",
    "programming_dictionary.update({\"Test\": \"Value\"})\n",
    "print(programming_dictionary)\n",
    "print(len(programming_dictionary))"
   ]
  },
  {
   "cell_type": "code",
   "execution_count": 25,
   "metadata": {},
   "outputs": [
    {
     "name": "stdout",
     "output_type": "stream",
     "text": [
      "{}\n"
     ]
    }
   ],
   "source": [
    "# wipping an entire dictionary using both function\n",
    "programming_dictionary = dict()\n",
    "programming_dictionary = {}\n",
    "print(programming_dictionary)"
   ]
  },
  {
   "cell_type": "code",
   "execution_count": 34,
   "metadata": {},
   "outputs": [
    {
     "name": "stdout",
     "output_type": "stream",
     "text": [
      "('a', 10)\n",
      "('b', 20)\n",
      "('c', 30)\n",
      "10\n",
      "20\n",
      "30\n",
      "a\n",
      "b\n",
      "c\n"
     ]
    }
   ],
   "source": [
    "# looping through a dictionary \n",
    "my_dict = {'a': 10, 'b': 20, 'c': 30}\n",
    "\n",
    "# getting all the elements\n",
    "for elements in my_dict.items():\n",
    "    print(elements)\n",
    "\n",
    "# getting all the values\n",
    "for values in my_dict.values():\n",
    "    print(values)\n",
    "\n",
    "# getting all the keys\n",
    "for keys in my_dict.keys():\n",
    "    print(keys)"
   ]
  }
 ],
 "metadata": {
  "kernelspec": {
   "display_name": "Python 3",
   "language": "python",
   "name": "python3"
  },
  "language_info": {
   "codemirror_mode": {
    "name": "ipython",
    "version": 3
   },
   "file_extension": ".py",
   "mimetype": "text/x-python",
   "name": "python",
   "nbconvert_exporter": "python",
   "pygments_lexer": "ipython3",
   "version": "3.12.0"
  }
 },
 "nbformat": 4,
 "nbformat_minor": 2
}
